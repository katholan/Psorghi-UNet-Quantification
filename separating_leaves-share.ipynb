{
 "cells": [
  {
   "cell_type": "markdown",
   "metadata": {},
   "source": [
    "### This script is designed to take scans of multiple leaf images and output cropped images containing individual leaves. It is a Python3 script writting in a Jupyter Notebook. I run Jupyter through Anaconda."
   ]
  },
  {
   "cell_type": "markdown",
   "metadata": {},
   "source": [
    "#### Image Guidelines\n",
    "1. Input scans are separated into individual leaves and those individual leaves are saved.\n",
    "2. Images should be taken so that leaves do not overlap. Overlapping leaves will be treated as a single region.\n",
    "2. Images should be taken so that the bounding box around a leaf do not overlap. Any portion of the image, including other leaf regions, that overlaps with a given bounding box will be included in the final crop. "
   ]
  },
  {
   "cell_type": "code",
   "execution_count": null,
   "metadata": {},
   "outputs": [],
   "source": [
    "## Importing packages\n",
    "import numpy as np\n",
    "import cv2\n",
    "import pandas as pd\n",
    "import matplotlib\n",
    "from matplotlib import pyplot as plt\n",
    "from skimage import data\n",
    "from skimage import morphology\n",
    "from skimage.filters import threshold_otsu\n",
    "from skimage.filters import sobel\n",
    "from skimage.segmentation import clear_border\n",
    "from skimage.measure import label, regionprops\n",
    "from skimage.morphology import closing, square, remove_small_objects\n",
    "from skimage.segmentation import slic\n",
    "from skimage.color import label2rgb\n",
    "from scipy import ndimage as ndi\n",
    "import glob\n",
    "import timeit\n",
    "import seaborn as sns\n",
    "%matplotlib inline"
   ]
  },
  {
   "cell_type": "code",
   "execution_count": null,
   "metadata": {},
   "outputs": [],
   "source": [
    "## Filepath containing the folder with your image scans. \n",
    "## Change for your particular file structure.\n",
    "filepath = '~/scanner/2020_11_16/'\n",
    "\n",
    "## This will go through your filepath and find all files with the .tif extension. \n",
    "## If your files have a different extension, you'll need to change that.\n",
    "files = glob.glob(filepath + '*.tif')\n",
    "\n",
    "## To check your files are accounted for\n",
    "print(files)"
   ]
  },
  {
   "cell_type": "code",
   "execution_count": null,
   "metadata": {},
   "outputs": [],
   "source": [
    "## Create empty lists for appending data\n",
    "total_leaf_area = []\n",
    "leaf_img = []\n",
    "leafID = []\n",
    "\n",
    "## You can change the name variable to what you want your file prefix to be. \n",
    "name = \"2020_11_16\"\n",
    "\n",
    "## Each unique region will get a number, starting with zero.\n",
    "k = 0"
   ]
  },
  {
   "cell_type": "code",
   "execution_count": null,
   "metadata": {},
   "outputs": [],
   "source": [
    "## This is the main for loop. It will go through all of your files that you already imported\n",
    "## A line will be outputted for each file that starts processing so you can keep track\n",
    "## It should only take a few minutes to run completely. \n",
    "for file in files:\n",
    "    print('Processing:' + file)\n",
    "    I=cv2.imread(file)\n",
    "    b,g,r=cv2.split(I)\n",
    "    I2=cv2.merge((r,g,b))\n",
    "\n",
    "## This section can be used to change sections of the scan to all white.   \n",
    "## I use it to remove my labels at the top of my scan and add a white border around the image\n",
    "## A white border is necessary if your leaf regions overlap with the edge of your image\n",
    "    I2[:,-100:,:]=255\n",
    "    I2[:,0:100,:]=255\n",
    "    I2[0:2400,0:3800,:]=255\n",
    "    I2[0:2000,0:-10]=255\n",
    "\n",
    "## This section can be used to crop sections out of your scan.\n",
    "## I use it to crop out the labels at the top so they are added as regions.\n",
    "    img1=I2[2000:,:,:]\n",
    "\n",
    "## This selects the blue channel for thresholding. \n",
    "## The channel you pick will depend on the colors in your image. \n",
    "    img=img1[:,:,2] \n",
    "\n",
    "## Perform threshold based on the blue channel\n",
    "    thresh = threshold_otsu(img)\n",
    "    bw = closing(img > thresh, square(3))\n",
    "    bw=~bw  \n",
    "    cleared = clear_border(bw)\n",
    "    label_img = label(cleared)\n",
    "\n",
    "## Plot the threshold figure if you want. Can be helpful for troubleshooting.\n",
    "## I recommend keeping this commented out for running the full loop.\n",
    "#     plt.figure()\n",
    "#     plt.imshow(label_img)    \n",
    "    \n",
    "## For every region that's identified, this loop will save the bounding box for each region,\n",
    "## name each region,\n",
    "## save the approximate leaf area (in pixels) for each region,\n",
    "## and save the final cropped image containing (presumably) a single leaf\n",
    "## this will discard regions smaller than 10,000 pixels. This might need to be changed to fit your data\n",
    "    for region in regionprops(label_img):\n",
    "        if region.area >= 10000:\n",
    "            minr, minc, maxr, maxc = region.bbox\n",
    "            leaf1=img1[minr:maxr,minc:maxc,:]\n",
    "            total_leaf_area.append(region.area)\n",
    "            leaf_name = name + '_' + str(k)\n",
    "            leafID.append(leaf_name)            \n",
    "            k=k+1\n",
    "\n",
    "## You'll need to change the path to where you want your crops to save            \n",
    "            b,g,r = cv2.split(leaf1)\n",
    "            leaf1_edit = cv2.merge((r,g,b))\n",
    "            cv2.imwrite('~/scanner/individual_leaves/leaves_2020_11_16/' \n",
    "                       + leaf_name + '.tif', leaf1_edit)\n",
    "\n",
    "## If you want to save each leaf crop within the notebook, you can do this here.\n",
    "## May slow down the script, especially if you have a lot of leaves. Mostly useful for troubleshooting.\n",
    "#             leaf_img.append(leaf1)\n",
    "    \n",
    "## You can also view each leaf crop within the notebook. \n",
    "## Again, this can really slow down the script. \n",
    "## Really only use for troubleshooting on a few leaves, as there's limited memory for opening large figures.\n",
    "#             plt.figure()\n",
    "#             plt.imshow(leaf1)"
   ]
  },
  {
   "cell_type": "markdown",
   "metadata": {},
   "source": [
    "### I recommend checking your output files. Occassionally, there will be small regions that aren't full leaves that should be manually removed before additional processing."
   ]
  },
  {
   "cell_type": "code",
   "execution_count": null,
   "metadata": {},
   "outputs": [],
   "source": [
    "## Create a dataframe containing area information for each leaf crop\n",
    "df=pd.DataFrame({'leafID':leafID})\n",
    "df['leaf_area']=total_leaf_area\n",
    "\n",
    "## Print dataframe\n",
    "df\n",
    "\n",
    "## Save dataframe to csv.\n",
    "df.to_csv('leaf_areas.csv')"
   ]
  }
 ],
 "metadata": {
  "kernelspec": {
   "display_name": "Python 3",
   "language": "python",
   "name": "python3"
  },
  "language_info": {
   "codemirror_mode": {
    "name": "ipython",
    "version": 3
   },
   "file_extension": ".py",
   "mimetype": "text/x-python",
   "name": "python",
   "nbconvert_exporter": "python",
   "pygments_lexer": "ipython3",
   "version": "3.8.5"
  }
 },
 "nbformat": 4,
 "nbformat_minor": 2
}
